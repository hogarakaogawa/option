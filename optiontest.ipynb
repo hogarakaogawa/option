import ivolat3 as iv

s = 18000
k = 19000
r = 0.001
q = 0
t = 30/365
sigma = 0.3

call = iv.prem_call(s,k,r,q,t,sigma)

print(call)

